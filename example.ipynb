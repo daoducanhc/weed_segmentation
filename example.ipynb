{
 "metadata": {
  "language_info": {
   "codemirror_mode": {
    "name": "ipython",
    "version": 3
   },
   "file_extension": ".py",
   "mimetype": "text/x-python",
   "name": "python",
   "nbconvert_exporter": "python",
   "pygments_lexer": "ipython3",
   "version": "3.6.12-final"
  },
  "orig_nbformat": 4,
  "kernelspec": {
   "name": "python361264bitpycvconda42109f6da1bf4d60a9fbba1bf4eaaf91",
   "display_name": "Python 3.6.12 64-bit ('pycv': conda)",
   "language": "python"
  },
  "interpreter": {
   "hash": "bfddf937a8823ab3e99205ef1d76b6dcbf96ce0492501b98539e59e73c98db58"
  }
 },
 "nbformat": 4,
 "nbformat_minor": 2,
 "cells": [
  {
   "cell_type": "code",
   "execution_count": 1,
   "metadata": {},
   "outputs": [
    {
     "output_type": "stream",
     "name": "stdout",
     "text": [
      "cpu\n"
     ]
    }
   ],
   "source": [
    "import os\n",
    "import torch\n",
    "import numpy as np\n",
    "import setup.dataset as dataset\n",
    "import setup.ResUNet as ResUNet\n",
    "import setup.UNet as UNet\n",
    "import setup.CNN as CNN\n",
    "import setup.HSCNN as HSCNN\n",
    "import setup.DeepLabV3 as DeepLabV3\n",
    "import setup.SegNet as SegNet\n",
    "import setup.classifier as classifier\n",
    "from torch.utils.data import SubsetRandomSampler\n",
    "from PIL import Image\n",
    "import matplotlib.pyplot as plt\n",
    "\n",
    "np.random.seed(0)\n",
    "torch.manual_seed(0)\n",
    "\n",
    "DATASET_PATH = 'dataset/test'\n",
    "\n",
    "device = torch.device('cuda' if torch.cuda.is_available() else 'cpu')\n",
    "print(device)\n",
    "\n",
    "weed_dataset = dataset.WeedDataset(DATASET_PATH, random_rotate=False)\n",
    "\n",
    "test_indices = list(range(len(weed_dataset)))\n",
    "\n",
    "model = ResUNet.ResUNet().to(device)\n",
    "path = 'outputs/augmentation_dataset/512/ResUNet.pt'\n",
    "\n",
    "classifier = classifier.WeedClassifier(model, device)\n",
    "if str(device) == 'cpu':\n",
    "    classifier.model.load_state_dict(torch.load(path, map_location='cpu'))\n",
    "else:\n",
    "    classifier.model.load_state_dict(torch.load(path))"
   ]
  },
  {
   "cell_type": "code",
   "execution_count": 2,
   "metadata": {},
   "outputs": [],
   "source": [
    "i=0\n",
    "d = {}"
   ]
  },
  {
   "cell_type": "code",
   "execution_count": 30,
   "metadata": {},
   "outputs": [
    {
     "output_type": "stream",
     "name": "stdout",
     "text": [
      "0.8382284058967163\n8\n"
     ]
    }
   ],
   "source": [
    "image_index = test_indices[i]\n",
    "sample = weed_dataset[image_index]\n",
    "output, mask, score = classifier.predict(sample)\n",
    "\n",
    "print(score)\n",
    "print(image_index)\n",
    "\n",
    "d[score] = image_index\n",
    "\n",
    "# print('{}.png  Score: {}'.format(image_index, score))\n",
    "# mask = sample['mask']\n",
    "# nir.show()\n",
    "# nir = nir.numpy().transpose(1, 2, 0)\n",
    "# print(nir.size)\n",
    "\n",
    "# output = Image.fromarray((output * 255).astype(np.uint8))\n",
    "# mask = Image.fromarray((mask * 255).astype(np.uint8))\n",
    "# # rgb = rgb.numpy().transpose(1, 2, 0)\n",
    "\n",
    "# # Image.fromarray(np.hstack((np.array(mask),np.array(output)))).show()\n",
    "\n",
    "# # mask.show()\n",
    "# # output.show()\n",
    "\n",
    "# line = (np.ones((weed_dataset.size,15,3))*255).astype(np.uint8)\n",
    "\n",
    "# plt.imshow(Image.fromarray(np.hstack((np.array(mask), line, np.array(output)))))\n",
    "\n",
    "i += 1\n",
    "if i >= len(test_indices):\n",
    "    i = 0"
   ]
  },
  {
   "cell_type": "code",
   "execution_count": 31,
   "metadata": {},
   "outputs": [
    {
     "output_type": "stream",
     "name": "stdout",
     "text": [
      "10\n"
     ]
    }
   ],
   "source": [
    "score_min = min(d)\n",
    "print(d[score_min])"
   ]
  }
 ]
}