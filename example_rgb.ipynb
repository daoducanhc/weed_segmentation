{
 "metadata": {
  "language_info": {
   "codemirror_mode": {
    "name": "ipython",
    "version": 3
   },
   "file_extension": ".py",
   "mimetype": "text/x-python",
   "name": "python",
   "nbconvert_exporter": "python",
   "pygments_lexer": "ipython3",
   "version": "3.6.12-final"
  },
  "orig_nbformat": 2,
  "kernelspec": {
   "name": "python3",
   "display_name": "Python 3"
  },
  "metadata": {
   "interpreter": {
    "hash": "bfddf937a8823ab3e99205ef1d76b6dcbf96ce0492501b98539e59e73c98db58"
   }
  },
  "interpreter": {
   "hash": "bfddf937a8823ab3e99205ef1d76b6dcbf96ce0492501b98539e59e73c98db58"
  }
 },
 "nbformat": 4,
 "nbformat_minor": 2,
 "cells": [
  {
   "cell_type": "code",
   "execution_count": 1,
   "metadata": {},
   "outputs": [
    {
     "output_type": "stream",
     "name": "stdout",
     "text": [
      "cpu\n"
     ]
    }
   ],
   "source": [
    "import os\n",
    "import torch\n",
    "import numpy as np\n",
    "import setup.dataset_rgb as dataset_rgb\n",
    "import setup.ResUNet as ResUNet\n",
    "import setup.classifier as classifier\n",
    "from torch.utils.data import SubsetRandomSampler\n",
    "from PIL import Image\n",
    "import matplotlib.pyplot as plt\n",
    "\n",
    "np.random.seed(0)\n",
    "torch.manual_seed(0)\n",
    "\n",
    "DATASET_PATH = 'dataset/predict'\n",
    "\n",
    "device = torch.device('cuda' if torch.cuda.is_available() else 'cpu')\n",
    "print(device)\n",
    "\n",
    "predict_weed_dataset = dataset_rgb.WeedDataset_RGB(DATASET_PATH)\n",
    "\n",
    "predict_indices = list(range(len(predict_weed_dataset)))\n",
    "\n",
    "FILTER_LIST = [16,32,64,128,256]\n",
    "\n",
    "model = ResUNet.ResUNet(FILTER_LIST).to(device)\n",
    "path = 'outputs/ResUNet.pt'\n",
    "\n",
    "classifier = classifier.WeedClassifier(model, device)\n",
    "if str(device) == 'cpu':\n",
    "    classifier.model.load_state_dict(torch.load(path, map_location='cpu'))\n",
    "else:\n",
    "    classifier.model.load_state_dict(torch.load(path))"
   ]
  },
  {
   "cell_type": "code",
   "execution_count": 2,
   "metadata": {},
   "outputs": [],
   "source": [
    "i=0"
   ]
  },
  {
   "cell_type": "code",
   "execution_count": 13,
   "metadata": {},
   "outputs": [],
   "source": [
    "image_index = predict_indices[i]\n",
    "sample = predict_weed_dataset[image_index]\n",
    "rgb, output = classifier.predict_rgb(sample)\n",
    "\n",
    "# print('Score', score)\n",
    "\n",
    "# mask = Image.fromarray((mask * 255).astype(np.uint8))\n",
    "output = Image.fromarray((output * 255).astype(np.uint8))\n",
    "\n",
    "# rgb = rgb.numpy().transpose(1, 2, 0)\n",
    "\n",
    "from torchvision import transforms\n",
    "rgb = Image.open(\"dataset/test/nir/2.png\").convert('RGB')\n",
    "rgb = transforms.Resize((512, 512))(rgb)\n",
    "output = Image.open(\"dataset/test/mask/2.png\")\n",
    "output = transforms.Resize((512, 512))(output)\n",
    "Image.fromarray(np.hstack((np.array(rgb),np.array(output)))).show()\n",
    "\n",
    "# rgb.show()\n",
    "# output.show()\n",
    "\n",
    "# i += 1\n",
    "# if i >= len(test_indices):\n",
    "#     i = 0"
   ]
  },
  {
   "cell_type": "code",
   "execution_count": null,
   "metadata": {},
   "outputs": [],
   "source": []
  }
 ]
}